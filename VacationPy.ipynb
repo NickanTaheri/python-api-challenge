{
 "cells": [
  {
   "cell_type": "markdown",
   "metadata": {},
   "source": [
    "# VacationPy\n",
    "----"
   ]
  },
  {
   "cell_type": "code",
   "execution_count": 1,
   "metadata": {},
   "outputs": [],
   "source": [
    "# Dependencies and Setup\n",
    "import matplotlib.pyplot as plt\n",
    "import pandas as pd\n",
    "import numpy as np\n",
    "import requests\n",
    "import gmaps\n",
    "import os\n",
    "import json\n",
    "\n",
    "# Import API key\n",
    "from api_keys import g_key"
   ]
  },
  {
   "cell_type": "markdown",
   "metadata": {},
   "source": [
    "### Store Part I results into DataFrame"
   ]
  },
  {
   "cell_type": "code",
   "execution_count": 3,
   "metadata": {},
   "outputs": [
    {
     "data": {
      "text/html": [
       "<div>\n",
       "<style scoped>\n",
       "    .dataframe tbody tr th:only-of-type {\n",
       "        vertical-align: middle;\n",
       "    }\n",
       "\n",
       "    .dataframe tbody tr th {\n",
       "        vertical-align: top;\n",
       "    }\n",
       "\n",
       "    .dataframe thead th {\n",
       "        text-align: right;\n",
       "    }\n",
       "</style>\n",
       "<table border=\"1\" class=\"dataframe\">\n",
       "  <thead>\n",
       "    <tr style=\"text-align: right;\">\n",
       "      <th></th>\n",
       "      <th>City Name</th>\n",
       "      <th>Latitude</th>\n",
       "      <th>Longtitude</th>\n",
       "      <th>Max Temperature</th>\n",
       "      <th>Humidity</th>\n",
       "      <th>Cloudiness</th>\n",
       "      <th>Wind Speed</th>\n",
       "      <th>Country</th>\n",
       "      <th>Date</th>\n",
       "    </tr>\n",
       "  </thead>\n",
       "  <tbody>\n",
       "    <tr>\n",
       "      <th>0</th>\n",
       "      <td>Tūkrah</td>\n",
       "      <td>32.5341</td>\n",
       "      <td>20.5791</td>\n",
       "      <td>300.71</td>\n",
       "      <td>40</td>\n",
       "      <td>0</td>\n",
       "      <td>2.22</td>\n",
       "      <td>LY</td>\n",
       "      <td>1663318021</td>\n",
       "    </tr>\n",
       "    <tr>\n",
       "      <th>1</th>\n",
       "      <td>Russell</td>\n",
       "      <td>32.3502</td>\n",
       "      <td>-85.1999</td>\n",
       "      <td>292.72</td>\n",
       "      <td>100</td>\n",
       "      <td>0</td>\n",
       "      <td>0.00</td>\n",
       "      <td>US</td>\n",
       "      <td>1663317979</td>\n",
       "    </tr>\n",
       "    <tr>\n",
       "      <th>2</th>\n",
       "      <td>Mil'kovo</td>\n",
       "      <td>54.7167</td>\n",
       "      <td>158.6167</td>\n",
       "      <td>278.07</td>\n",
       "      <td>87</td>\n",
       "      <td>42</td>\n",
       "      <td>3.25</td>\n",
       "      <td>RU</td>\n",
       "      <td>1663318022</td>\n",
       "    </tr>\n",
       "    <tr>\n",
       "      <th>3</th>\n",
       "      <td>Arrondissement de Roanne</td>\n",
       "      <td>46.0000</td>\n",
       "      <td>4.0000</td>\n",
       "      <td>286.45</td>\n",
       "      <td>87</td>\n",
       "      <td>44</td>\n",
       "      <td>2.81</td>\n",
       "      <td>FR</td>\n",
       "      <td>1663318022</td>\n",
       "    </tr>\n",
       "    <tr>\n",
       "      <th>4</th>\n",
       "      <td>Thompson</td>\n",
       "      <td>55.7435</td>\n",
       "      <td>-97.8558</td>\n",
       "      <td>277.24</td>\n",
       "      <td>100</td>\n",
       "      <td>0</td>\n",
       "      <td>0.00</td>\n",
       "      <td>CA</td>\n",
       "      <td>1663318023</td>\n",
       "    </tr>\n",
       "  </tbody>\n",
       "</table>\n",
       "</div>"
      ],
      "text/plain": [
       "                  City Name  Latitude  Longtitude  Max Temperature  Humidity  \\\n",
       "0                    Tūkrah   32.5341     20.5791           300.71        40   \n",
       "1                   Russell   32.3502    -85.1999           292.72       100   \n",
       "2                  Mil'kovo   54.7167    158.6167           278.07        87   \n",
       "3  Arrondissement de Roanne   46.0000      4.0000           286.45        87   \n",
       "4                  Thompson   55.7435    -97.8558           277.24       100   \n",
       "\n",
       "   Cloudiness  Wind Speed Country        Date  \n",
       "0           0        2.22      LY  1663318021  \n",
       "1           0        0.00      US  1663317979  \n",
       "2          42        3.25      RU  1663318022  \n",
       "3          44        2.81      FR  1663318022  \n",
       "4           0        0.00      CA  1663318023  "
      ]
     },
     "execution_count": 3,
     "metadata": {},
     "output_type": "execute_result"
    }
   ],
   "source": [
    "city_data= pd.read_csv('output_data/cities.csv')\n",
    "city_data.head()"
   ]
  },
  {
   "cell_type": "markdown",
   "metadata": {},
   "source": [
    "### Humidity Heatmap"
   ]
  },
  {
   "cell_type": "code",
   "execution_count": 6,
   "metadata": {},
   "outputs": [],
   "source": [
    "# Configure gmaps with API key\n",
    "gmaps.configure(api_key=g_key)"
   ]
  },
  {
   "cell_type": "code",
   "execution_count": 13,
   "metadata": {},
   "outputs": [
    {
     "data": {
      "application/vnd.jupyter.widget-view+json": {
       "model_id": "e23c8b8208964d16b35323749736651e",
       "version_major": 2,
       "version_minor": 0
      },
      "text/plain": [
       "Figure(layout=FigureLayout(height='420px'))"
      ]
     },
     "execution_count": 13,
     "metadata": {},
     "output_type": "execute_result"
    }
   ],
   "source": [
    "# Set the locations and weight\n",
    "locations = city_data[[\"Latitude\",\"Longtitude\"]].astype(float)\n",
    "humidity = city_data[\"Humidity\"].astype(float)\n",
    "\n",
    "# Create a Humidity Heatmap\n",
    "fig = gmaps.figure(center=(10,0.00),zoom_level=2)\n",
    "\n",
    "heat_layer = gmaps.heatmap_layer(locations, weights=humidity, \n",
    "                                 dissipating=False, max_intensity=100,\n",
    "                                 point_radius = 3)\n",
    "\n",
    "fig.add_layer(heat_layer)\n",
    "\n",
    "fig"
   ]
  },
  {
   "cell_type": "markdown",
   "metadata": {},
   "source": [
    "### Create new DataFrame fitting weather criteria"
   ]
  },
  {
   "cell_type": "code",
   "execution_count": 8,
   "metadata": {},
   "outputs": [
    {
     "data": {
      "text/plain": [
       "0"
      ]
     },
     "execution_count": 8,
     "metadata": {},
     "output_type": "execute_result"
    }
   ],
   "source": [
    "hotel_df = city_data.loc[(city_data[\"Humidity\"]<80) &\n",
    "                         (city_data[\"Humidity\"]>20) &\n",
    "                             (city_data[\"Max Temperature\"]<35) &\n",
    "                            (city_data[\"Max Temperature\"]>20) &\n",
    "                            (city_data[\"Cloudiness\"]<70) &\n",
    "                            (city_data[\"Wind Speed\"]<5)&\n",
    "                        (city_data[\"Wind Speed\"]>1)&\n",
    "                        (city_data[\"Country\"] != \"AU\")]\n",
    "len(hotel_df)"
   ]
  },
  {
   "cell_type": "code",
   "execution_count": 6,
   "metadata": {},
   "outputs": [
    {
     "data": {
      "text/html": [
       "<div>\n",
       "<style scoped>\n",
       "    .dataframe tbody tr th:only-of-type {\n",
       "        vertical-align: middle;\n",
       "    }\n",
       "\n",
       "    .dataframe tbody tr th {\n",
       "        vertical-align: top;\n",
       "    }\n",
       "\n",
       "    .dataframe thead th {\n",
       "        text-align: right;\n",
       "    }\n",
       "</style>\n",
       "<table border=\"1\" class=\"dataframe\">\n",
       "  <thead>\n",
       "    <tr style=\"text-align: right;\">\n",
       "      <th></th>\n",
       "      <th>City Name</th>\n",
       "      <th>Latitude</th>\n",
       "      <th>Longtitude</th>\n",
       "      <th>Max Temperature</th>\n",
       "      <th>Humidity</th>\n",
       "      <th>Cloudiness</th>\n",
       "      <th>Wind Speed</th>\n",
       "      <th>Country</th>\n",
       "      <th>Date</th>\n",
       "    </tr>\n",
       "  </thead>\n",
       "  <tbody>\n",
       "    <tr>\n",
       "      <th>8</th>\n",
       "      <td>Veroli</td>\n",
       "      <td>41.6911</td>\n",
       "      <td>13.4177</td>\n",
       "      <td>34.06</td>\n",
       "      <td>34</td>\n",
       "      <td>40</td>\n",
       "      <td>2.57</td>\n",
       "      <td>IT</td>\n",
       "      <td>1659957420</td>\n",
       "    </tr>\n",
       "    <tr>\n",
       "      <th>15</th>\n",
       "      <td>Bambous Virieux</td>\n",
       "      <td>-20.3428</td>\n",
       "      <td>57.7575</td>\n",
       "      <td>24.56</td>\n",
       "      <td>64</td>\n",
       "      <td>20</td>\n",
       "      <td>4.12</td>\n",
       "      <td>MU</td>\n",
       "      <td>1659957423</td>\n",
       "    </tr>\n",
       "    <tr>\n",
       "      <th>16</th>\n",
       "      <td>Ponta do Sol</td>\n",
       "      <td>32.6667</td>\n",
       "      <td>-17.1000</td>\n",
       "      <td>26.67</td>\n",
       "      <td>72</td>\n",
       "      <td>4</td>\n",
       "      <td>1.53</td>\n",
       "      <td>PT</td>\n",
       "      <td>1659957424</td>\n",
       "    </tr>\n",
       "    <tr>\n",
       "      <th>35</th>\n",
       "      <td>Kelo</td>\n",
       "      <td>9.3086</td>\n",
       "      <td>15.8066</td>\n",
       "      <td>29.48</td>\n",
       "      <td>63</td>\n",
       "      <td>61</td>\n",
       "      <td>3.32</td>\n",
       "      <td>TD</td>\n",
       "      <td>1659957432</td>\n",
       "    </tr>\n",
       "    <tr>\n",
       "      <th>49</th>\n",
       "      <td>Hilo</td>\n",
       "      <td>19.7297</td>\n",
       "      <td>-155.0900</td>\n",
       "      <td>25.71</td>\n",
       "      <td>74</td>\n",
       "      <td>40</td>\n",
       "      <td>3.60</td>\n",
       "      <td>US</td>\n",
       "      <td>1659957440</td>\n",
       "    </tr>\n",
       "  </tbody>\n",
       "</table>\n",
       "</div>"
      ],
      "text/plain": [
       "          City Name  Latitude  Longtitude  Max Temperature  Humidity  \\\n",
       "8            Veroli   41.6911     13.4177            34.06        34   \n",
       "15  Bambous Virieux  -20.3428     57.7575            24.56        64   \n",
       "16     Ponta do Sol   32.6667    -17.1000            26.67        72   \n",
       "35             Kelo    9.3086     15.8066            29.48        63   \n",
       "49             Hilo   19.7297   -155.0900            25.71        74   \n",
       "\n",
       "    Cloudiness  Wind Speed Country        Date  \n",
       "8           40        2.57      IT  1659957420  \n",
       "15          20        4.12      MU  1659957423  \n",
       "16           4        1.53      PT  1659957424  \n",
       "35          61        3.32      TD  1659957432  \n",
       "49          40        3.60      US  1659957440  "
      ]
     },
     "execution_count": 6,
     "metadata": {},
     "output_type": "execute_result"
    }
   ],
   "source": [
    "hotel_df.head()"
   ]
  },
  {
   "cell_type": "markdown",
   "metadata": {},
   "source": [
    "### Hotel Map"
   ]
  },
  {
   "cell_type": "code",
   "execution_count": 9,
   "metadata": {},
   "outputs": [],
   "source": [
    "# Add column for hotel to the DataFrame\n",
    "hotel_df[\"Hotel Name\"] = \"\"\n",
    "\n",
    "# Params dictionary to search for hotel\n",
    "base_url = \"https://maps.googleapis.com/maps/api/place/nearbysearch/json\"\n",
    "params = {\n",
    "    \"radius\": 5000,\n",
    "    \"types\": \"hotel\",\n",
    "    \"key\": g_key\n",
    "}\n",
    "\n",
    "# Using the the lat/long to identify in which city to look for\n",
    "for index, row in hotel_df.iterrows():\n",
    "    #Get each cities lat & long and add to api search\n",
    "    lat = row[\"Latitude\"]\n",
    "    lng = row[\"Longtitude\"]\n",
    "    params[\"location\"] = f\"{lat},{lng}\"\n",
    "\n",
    "    # Request url\n",
    "    hotel_name = requests.get(base_url, params=params)\n",
    "    hotel_name =  hotel_name.json()\n",
    "    \n",
    "    # Since some data may be missing we incorporate a try-except to skip any that are missing a data point.\n",
    "    try:\n",
    "        hotel_df.loc[index, \"Hotel Name\"] = hotel_name[\"results\"][1][\"name\"]\n",
    "        print(\"Found hotel for \" + hotel_name[\"results\"][0][\"name\"])\n",
    "    except (KeyError, IndexError):\n",
    "        print(\"Missing result... skipping\")"
   ]
  },
  {
   "cell_type": "code",
   "execution_count": 8,
   "metadata": {
    "scrolled": true
   },
   "outputs": [
    {
     "data": {
      "text/html": [
       "<div>\n",
       "<style scoped>\n",
       "    .dataframe tbody tr th:only-of-type {\n",
       "        vertical-align: middle;\n",
       "    }\n",
       "\n",
       "    .dataframe tbody tr th {\n",
       "        vertical-align: top;\n",
       "    }\n",
       "\n",
       "    .dataframe thead th {\n",
       "        text-align: right;\n",
       "    }\n",
       "</style>\n",
       "<table border=\"1\" class=\"dataframe\">\n",
       "  <thead>\n",
       "    <tr style=\"text-align: right;\">\n",
       "      <th></th>\n",
       "      <th>City Name</th>\n",
       "      <th>Latitude</th>\n",
       "      <th>Longtitude</th>\n",
       "      <th>Max Temperature</th>\n",
       "      <th>Humidity</th>\n",
       "      <th>Cloudiness</th>\n",
       "      <th>Wind Speed</th>\n",
       "      <th>Country</th>\n",
       "      <th>Date</th>\n",
       "      <th>Hotel Name</th>\n",
       "    </tr>\n",
       "  </thead>\n",
       "  <tbody>\n",
       "    <tr>\n",
       "      <th>8</th>\n",
       "      <td>Veroli</td>\n",
       "      <td>41.6911</td>\n",
       "      <td>13.4177</td>\n",
       "      <td>34.06</td>\n",
       "      <td>34</td>\n",
       "      <td>40</td>\n",
       "      <td>2.57</td>\n",
       "      <td>IT</td>\n",
       "      <td>1659957420</td>\n",
       "      <td>Hotel Relais Filonardi</td>\n",
       "    </tr>\n",
       "    <tr>\n",
       "      <th>15</th>\n",
       "      <td>Bambous Virieux</td>\n",
       "      <td>-20.3428</td>\n",
       "      <td>57.7575</td>\n",
       "      <td>24.56</td>\n",
       "      <td>64</td>\n",
       "      <td>20</td>\n",
       "      <td>4.12</td>\n",
       "      <td>MU</td>\n",
       "      <td>1659957423</td>\n",
       "      <td>La Case du Pêcheur</td>\n",
       "    </tr>\n",
       "    <tr>\n",
       "      <th>16</th>\n",
       "      <td>Ponta do Sol</td>\n",
       "      <td>32.6667</td>\n",
       "      <td>-17.1000</td>\n",
       "      <td>26.67</td>\n",
       "      <td>72</td>\n",
       "      <td>4</td>\n",
       "      <td>1.53</td>\n",
       "      <td>PT</td>\n",
       "      <td>1659957424</td>\n",
       "      <td>Hotel do Campo</td>\n",
       "    </tr>\n",
       "    <tr>\n",
       "      <th>35</th>\n",
       "      <td>Kelo</td>\n",
       "      <td>9.3086</td>\n",
       "      <td>15.8066</td>\n",
       "      <td>29.48</td>\n",
       "      <td>63</td>\n",
       "      <td>61</td>\n",
       "      <td>3.32</td>\n",
       "      <td>TD</td>\n",
       "      <td>1659957432</td>\n",
       "      <td>Centro Educativo Charles Lwanga (CECL) - Misio...</td>\n",
       "    </tr>\n",
       "    <tr>\n",
       "      <th>49</th>\n",
       "      <td>Hilo</td>\n",
       "      <td>19.7297</td>\n",
       "      <td>-155.0900</td>\n",
       "      <td>25.71</td>\n",
       "      <td>74</td>\n",
       "      <td>40</td>\n",
       "      <td>3.60</td>\n",
       "      <td>US</td>\n",
       "      <td>1659957440</td>\n",
       "      <td>Hilo Hawaiian Hotel</td>\n",
       "    </tr>\n",
       "  </tbody>\n",
       "</table>\n",
       "</div>"
      ],
      "text/plain": [
       "          City Name  Latitude  Longtitude  Max Temperature  Humidity  \\\n",
       "8            Veroli   41.6911     13.4177            34.06        34   \n",
       "15  Bambous Virieux  -20.3428     57.7575            24.56        64   \n",
       "16     Ponta do Sol   32.6667    -17.1000            26.67        72   \n",
       "35             Kelo    9.3086     15.8066            29.48        63   \n",
       "49             Hilo   19.7297   -155.0900            25.71        74   \n",
       "\n",
       "    Cloudiness  Wind Speed Country        Date  \\\n",
       "8           40        2.57      IT  1659957420   \n",
       "15          20        4.12      MU  1659957423   \n",
       "16           4        1.53      PT  1659957424   \n",
       "35          61        3.32      TD  1659957432   \n",
       "49          40        3.60      US  1659957440   \n",
       "\n",
       "                                           Hotel Name  \n",
       "8                              Hotel Relais Filonardi  \n",
       "15                                 La Case du Pêcheur  \n",
       "16                                     Hotel do Campo  \n",
       "35  Centro Educativo Charles Lwanga (CECL) - Misio...  \n",
       "49                                Hilo Hawaiian Hotel  "
      ]
     },
     "execution_count": 8,
     "metadata": {},
     "output_type": "execute_result"
    }
   ],
   "source": [
    "hotel_df.head()"
   ]
  }
 ],
 "metadata": {
  "kernelspec": {
   "display_name": "Python 3.10.7 64-bit (microsoft store)",
   "language": "python",
   "name": "python3"
  },
  "language_info": {
   "codemirror_mode": {
    "name": "ipython",
    "version": 3
   },
   "file_extension": ".py",
   "mimetype": "text/x-python",
   "name": "python",
   "nbconvert_exporter": "python",
   "pygments_lexer": "ipython3",
   "version": "3.10.7"
  },
  "latex_envs": {
   "LaTeX_envs_menu_present": true,
   "autoclose": false,
   "autocomplete": true,
   "bibliofile": "biblio.bib",
   "cite_by": "apalike",
   "current_citInitial": 1,
   "eqLabelWithNumbers": true,
   "eqNumInitial": 1,
   "hotkeys": {
    "equation": "Ctrl-E",
    "itemize": "Ctrl-I"
   },
   "labels_anchors": false,
   "latex_user_defs": false,
   "report_style_numbering": false,
   "user_envs_cfg": false
  },
  "vscode": {
   "interpreter": {
    "hash": "ae75985cef28d11bc6a5f2fb0836f641963034e7349aa0edb716cc75fdc9e250"
   }
  }
 },
 "nbformat": 4,
 "nbformat_minor": 4
}
