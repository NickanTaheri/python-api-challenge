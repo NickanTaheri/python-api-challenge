{
 "cells": [
  {
   "cell_type": "markdown",
   "metadata": {},
   "source": [
    "# WeatherPy\n",
    "----"
   ]
  },
  {
   "cell_type": "code",
   "execution_count": 1,
   "metadata": {
    "scrolled": true
   },
   "outputs": [],
   "source": [
    "# Dependencies and Setup\n",
    "import matplotlib.pyplot as plt\n",
    "import pandas as pd\n",
    "import numpy as np\n",
    "import requests\n",
    "import time\n",
    "from scipy.stats import linregress\n",
    "import random\n",
    "import csv\n",
    "import json\n",
    "\n",
    "# Import API key\n",
    "from api_keys import weather_api_key\n",
    "\n",
    "# Incorporated citipy to determine city based on latitude and longitude\n",
    "from citipy import citipy\n",
    "\n",
    "# Output File (CSV)\n",
    "output_data_file = \"output_data/cities.csv\"\n",
    "\n",
    "# Range of latitudes and longitudes\n",
    "lat_range = (-90, 90)\n",
    "lng_range = (-180, 180)\n",
    "\n",
    "#Locking in a Random Seed\n",
    "random.seed(30)"
   ]
  },
  {
   "cell_type": "markdown",
   "metadata": {},
   "source": [
    "## Generate Cities List"
   ]
  },
  {
   "cell_type": "code",
   "execution_count": 2,
   "metadata": {},
   "outputs": [
    {
     "data": {
      "text/plain": [
       "608"
      ]
     },
     "execution_count": 2,
     "metadata": {},
     "output_type": "execute_result"
    }
   ],
   "source": [
    "# List for holding lat_lngs and cities\n",
    "lat_lngs = []\n",
    "cities = []\n",
    "\n",
    "# Create a set of random lat and lng combinations\n",
    "lats = np.random.uniform(lat_range[0], lat_range[1], size=1500)\n",
    "lngs = np.random.uniform(lng_range[0], lng_range[1], size=1500)\n",
    "lat_lngs = zip(lats, lngs)\n",
    "\n",
    "# Identify nearest city for each lat, lng combination\n",
    "for lat_lng in lat_lngs:\n",
    "    city = citipy.nearest_city(lat_lng[0], lat_lng[1]).city_name\n",
    "    \n",
    "    # If the city is unique, then add it to a our cities list\n",
    "    if city not in cities:\n",
    "        cities.append(city)\n",
    "\n",
    "# Print the city count to confirm sufficient count\n",
    "len(cities)"
   ]
  },
  {
   "cell_type": "code",
   "execution_count": 3,
   "metadata": {},
   "outputs": [
    {
     "name": "stdout",
     "output_type": "stream",
     "text": [
      "['tukrah', 'russell', 'milkovo', 'roanne', 'thompson', 'hambantota', 'churapcha', 'rikitea', 'mataura', 'castro', 'lagoa', 'victoria', 'ormara', 'jamestown', 'souillac', 'tuktoyaktuk', 'busselton', 'kidal', 'ostrovnoy', 'saint anthony', 'husavik', 'sao joao da barra', 'upernavik', 'barrow', 'kaitangata', 'kapaa', 'the valley', 'morrope', 'nikolskoye', 'ushuaia', 'linkoping', 'kutum', 'cururupu', 'douglas', 'fairmont', 'hirara', 'hermanus', 'butaritari', 'brae', 'norilsk', 'punta arenas', 'maraa', 'abu jubayhah', 'makakilo city', 'zhigansk', 'pevek', 'khatanga', 'chernyshevskiy', 'matata', 'albany', 'luderitz', 'puerto ayora', 'clarksburg', 'ostroleka', 'tura', 'mbini', 'piryion', 'vestmannaeyjar', 'constitucion', 'aginskoye', 'saint george', 'bredasdorp', 'vaini', 'bluff', 'coahuayana', 'juneau', 'yellowknife', 'hobart', 'chapais', 'qaanaaq', 'esperance', 'rio grande', 'dikson', 'namatanai', 'upata', 'getulio vargas', 'georgetown', 'lebu', 'grindavik', 'shirokiy', 'skagastrond', 'bikin', 'ughelli', 'kaoma', 'tsihombe', 'gulu', 'caravelas', 'pringsewu', 'airai', 'provideniya', 'ahipara', 'tautira', 'mayo', 'lompoc', 'hithadhoo', 'arraial do cabo', 'port alfred', 'tiksi', 'bengkulu', 'kodiak', 'mys shmidta', 'padang', 'saldanha', 'magadan', 'walvis bay', 'garowe', 'illoqqortoormiut', 'hualmay', 'inhambane', 'tasiilaq', 'ancud', 'pisco', 'keflavik', 'uwayl', 'longyearbyen', 'manturovo', 'grimshaw', 'chagda', 'san patricio', 'maple creek', 'terme', 'mahajanga', 'sarmanovo', 'hilo', 'sorvag', 'olafsvik', 'kralendijk', 'clyde river', 'guanica', 'bambous virieux', 'alakurtti', 'cherskiy', 'ihiala', 'moree', 'fairbanks', 'iqaluit', 'garh maharaja', 'severo-kurilsk', 'ponta do sol', 'puerto escondido', 'dryden', 'bourail', 'new norfolk', 'kautokeino', 'kerewan', 'winnemucca', 'avarua', 'balkanabat', 'kasempa', 'anadyr', 'atuona', 'moberly', 'taolanaro', 'san carlos de bariloche', 'fortuna', 'tsumeb', 'caninde', 'champerico', 'kodinsk', 'evanton', 'byron bay', 'yukhnov', 'saint-philippe', 'taphan hin', 'kiunga', 'zhigalovo', 'dunedin', 'nandikotkur', 'tuatapere', 'saiki', 'baruun-urt', 'port lincoln', 'mahebourg', 'cape town', 'marcona', 'belmonte', 'laranjeiras do sul', 'mogadishu', 'quelimane', 'mar del plata', 'narsaq', 'iquitos', 'saint austell', 'san cristobal', 'tari', 'seoul', 'batticaloa', 'calabozo', 'geraldton', 'samusu', 'gilbues', 'chuy', 'saskylakh', 'ribeira grande', 'norman wells', 'port elizabeth', 'richards bay', 'mandiana', 'xinzhou', 'alice springs', 'carnarvon', 'moses lake', 'votkinsk', 'bethel', 'barcelos', 'qujing', 'nanortalik', 'kyotera', 'itoman', 'lolua', 'samarai', 'ruwi', 'bara', 'warora', 'miyako', 'las choapas', 'belushya guba', 'hofn', 'gayny', 'trairi', 'presidente medici', 'ayagoz', 'sentyabrskiy', 'yangambi', 'laurel', 'lais', 'taoudenni', 'margate', 'vao', 'jiuquan', 'baie-saint-paul', 'coquimbo', 'vikulovo', 'sumbawa', 'atar', 'meulaboh', 'lovozero', 'chokurdakh', 'vila velha', 'racine', 'boralday', 'kalavad', 'mamou', 'ixtapa', 'saint-pierre', 'aquiraz', 'alofi', 'port blair', 'xingcheng', 'swan hill', 'aklavik', 'segou', 'vaitupu', 'faya', 'kyzyl-suu', 'rungata', 'sawang daen din', 'burnie', 'kavaratti', 'camacha', 'praia da vitoria', 'launceston', 'port hardy', 'barentsburg', 'yinchuan', 'peace river', 'hervey bay', 'ust-kamchatsk', 'touros', 'cizre', 'dicabisagan', 'gupitan', 'katherine', 'chake chake', 'ilulissat', 'gilgit', 'nelson bay', 'nome', 'talnakh', 'kamenka', 'salalah', 'sauda', 'mandali', 'korla', 'numan', 'tezu', 'amderma', 'broken hill', 'angra', 'nabire', 'san jose', 'powell', 'grand river south east', 'mackenzie', 'svetlogorsk', 'dingle', 'urdzhar', 'umm lajj', 'pangkalanbuun', 'sitka', 'kasongo-lunda', 'awjilah', 'gizo', 'lata', 'misratah', 'vila franca do campo', 'hamilton', 'waddan', 'zhangye', 'qurayyat', 'prajeni', 'sorland', 'kijang', 'ranot', 'mutoko', 'east london', 'piopio', 'marystown', 'faanui', 'klaksvik', 'el faiyum', 'salinopolis', 'zhenjiang', 'kruisfontein', 'tuy hoa', 'cayenne', 'repelon', 'conde', 'tessalit', 'karatuzskoye', 'broome', 'sur', 'bathsheba', 'chumikan', 'shikarpur', 'maragogi', 'cardston', 'port keats', 'isangel', 'yebaishou', 'lisala', 'kirakira', 'adrar', 'torbay', 'klaeng', 'roald', 'amli', 'le port', 'moss point', 'harper', 'cockburn town', 'kudahuvadhoo', 'puerto narino', 'olinda', 'arauco', 'metro', 'port augusta', 'urusha', 'paita', 'beringovskiy', 'emerald', 'weligama', 'verkhoyansk', 'whitehorse', 'raton', 'guerrero negro', 'la ronge', 'troitsko-pechorsk', 'kathmandu', 'meyungs', 'wuxue', 'sobolevo', 'atasu', 'rawson', 'deputatskiy', 'aketi', 'norwich', 'makurdi', 'wilmington', 'grants', 'sorong', 'beyneu', 'kaeo', 'abu zabad', 'brazzaville', 'srivardhan', 'merauke', 'diffa', 'shakawe', 'hue', 'burayevo', 'namibe', 'albanel', 'quepem', 'kahului', 'pochutla', 'sabang', 'seinajoki', 'lavrentiya', 'boa vista', 'saint-leu', 'pasni', 'kolo', 'san policarpo', 'teguldet', 'poya', 'brasileia', 'saurimo', 'aberystwyth', 'semypolky', 'chala', 'lardos', 'krasnoselkup', 'waggaman', 'buala', 'chabahar', 'tevaitoa', 'buin', 'hasaki', 'henties bay', 'ballina', 'jalu', 'zhezkazgan', 'manubul', 'potgietersrus', 'mudanjiang', 'longlac', 'jhansi', 'mairana', 'la brea', 'raychikhinsk', 'gornopravdinsk', 'cordoba', 'angoche', 'northam', 'beni mazar', 'fare', 'wattegama', 'arona', 'ndioum', 'vardo', 'nizhneyansk', 'fort nelson', 'okha', 'glace bay', 'tilichiki', 'kegayli', 'yulara', 'ponta delgada', 'kaiyuan', 'mani', 'saint-joseph', 'teguise', 'okhotsk', 'sistranda', 'bandarbeyla', 'manyana', 'banda aceh', 'calatayud', 'kokkola', 'srednekolymsk', 'plouzane', 'leningradskiy', 'new glasgow', 'gorom-gorom', 'port moresby', 'kaka', 'muros', 'kiama', 'sakakah', 'maun', 'jizan', 'kropotkin', 'mehran', 'nanchang', 'dzhusaly', 'kampong thum', 'san pedro', 'lorengau', 'vostok', 'zaysan', 'katsuura', 'oudtshoorn', 'morristown', 'killybegs', 'burns lake', 'yaan', 'chimbote', 'luwuk', 'berdigestyakh', 'tagab', 'ibipeba', 'aksay', 'tarudant', 'necochea', 'takaka', 'yenagoa', 'oriximina', 'kalmunai', 'tumannyy', 'imbituba', 'marsa matruh', 'devils lake', 'luanda', 'pangody', 'ocampo', 'havoysund', 'dzaoudzi', 'baikunthpur', 'cidreira', 'hoquiam', 'villa carlos paz', 'baiyin', 'chaa-khol', 'koslan', 'matina', 'zhanaozen', 'abhar', 'ishikari', 'phalodi', 'ossora', 'shubarshi', 'san lawrenz', 'kloulklubed', 'liverpool', 'oksfjord', 'nong han', 'west bridgeford', 'mehamn', 'portland', 'vrises', 'eregli', 'krasnyy kholm', 'rudnogorsk', 'eganville', 'sheridan', 'lima', 'yerbogachen', 'toamasina', 'bermeo', 'kanker', 'bilibino', 'nioro', 'leshukonskoye', 'pitimbu', 'leh', 'morvi', 'twin falls', 'te anau', 'mangrol', 'homer', 'chakia', 'gamba', 'san quintin', 'louisbourg', 'toliary', 'el doncello', 'bantry', 'rocha', 'chiredzi', 'bubaque', 'chulman', 'tomelloso', 'ola', 'meadow lake', 'swan river', 'thinadhoo', 'boyolangu', 'grand-lahou', 'saint andrews', 'puerto penasco', 'san felipe', 'matadi', 'lae', 'mendahara', 'qaqortoq', 'pirovskoye', 'laramie', 'panguna', 'tarut', 'mizan teferi', 'collie', 'wanning', 'ewa beach', 'coolum beach', 'andevoranto', 'coihaique', 'slantsy', 'karaul', 'porto novo', 'lazaro cardenas', 'qui nhon', 'quatre cocos', 'honiara', 'axim', 'el sauzal', 'saltangara', 'oranjemund', 'san jose de gracia', 'great yarmouth', 'ayios nikolaos', 'kirando', 'kipushi', 'thunder bay', 'mersing', 'quito', 'nuuk', 'dawson creek']\n"
     ]
    }
   ],
   "source": [
    "print(cities)"
   ]
  },
  {
   "cell_type": "markdown",
   "metadata": {},
   "source": [
    "### Perform API Calls\n",
    "* Perform a weather check on each city using a series of successive API calls.\n",
    "* Include a print log of each city as it's being processed (with the city number and city name).\n"
   ]
  },
  {
   "cell_type": "code",
   "execution_count": 4,
   "metadata": {},
   "outputs": [],
   "source": [
    "# Identify the URL and the query url\n",
    "url = \"https://api.openweathermap.org/data/2.5/weather?q=\"\n"
   ]
  },
  {
   "cell_type": "code",
   "execution_count": 7,
   "metadata": {},
   "outputs": [
    {
     "name": "stdout",
     "output_type": "stream",
     "text": [
      "Beginning Data Retrieval\n",
      "------------------------------\n",
      "Processing record |tukrah\n",
      "Processing record |russell\n",
      "Processing record |milkovo\n",
      "Processing record |roanne\n",
      "Processing record |thompson\n",
      "Processing record |hambantota\n",
      "Processing record |churapcha\n",
      "Processing record |rikitea\n",
      "Processing record |mataura\n",
      "Processing record |castro\n",
      "Processing record |lagoa\n",
      "Processing record |victoria\n",
      "Processing record |ormara\n",
      "Processing record |jamestown\n",
      "Processing record |souillac\n",
      "Processing record |tuktoyaktuk\n",
      "Processing record |busselton\n",
      "Processing record |kidal\n",
      "Processing record |ostrovnoy\n",
      "Processing record |saint anthony\n",
      "Processing record |husavik\n",
      "Processing record |sao joao da barra\n",
      "Processing record |upernavik\n",
      "Processing record |barrow\n",
      "Processing record |kaitangata\n",
      "Processing record |kapaa\n",
      "Processing record |the valley\n",
      "Processing record |morrope\n",
      "Processing record |nikolskoye\n",
      "Processing record |ushuaia\n",
      "Processing record |linkoping\n",
      "Processing record |kutum\n",
      "Processing record |cururupu\n",
      "Processing record |douglas\n",
      "Processing record |fairmont\n",
      "Processing record |hirara\n",
      "Processing record |hermanus\n",
      "Processing record |butaritari\n",
      "Processing record |brae\n",
      "Processing record |norilsk\n",
      "Processing record |punta arenas\n",
      "Processing record |maraa\n",
      "Processing record |abu jubayhah\n",
      "abu jubayhah not found. Skipping...\n",
      "Processing record |makakilo city\n",
      "Processing record |zhigansk\n",
      "Processing record |pevek\n",
      "Processing record |khatanga\n",
      "Processing record |chernyshevskiy\n",
      "Processing record |matata\n",
      "Processing record |albany\n",
      "Processing record |luderitz\n",
      "Processing record |puerto ayora\n",
      "Processing record |clarksburg\n",
      "Processing record |ostroleka\n",
      "Processing record |tura\n",
      "Processing record |mbini\n",
      "Processing record |piryion\n",
      "piryion not found. Skipping...\n",
      "Processing record |vestmannaeyjar\n",
      "Processing record |constitucion\n",
      "Processing record |aginskoye\n",
      "Processing record |saint george\n",
      "Processing record |bredasdorp\n",
      "Processing record |vaini\n",
      "Processing record |bluff\n",
      "Processing record |coahuayana\n",
      "Processing record |juneau\n",
      "Processing record |yellowknife\n",
      "Processing record |hobart\n",
      "Processing record |chapais\n",
      "Processing record |qaanaaq\n",
      "Processing record |esperance\n",
      "Processing record |rio grande\n",
      "Processing record |dikson\n",
      "Processing record |namatanai\n",
      "Processing record |upata\n",
      "Processing record |getulio vargas\n",
      "Processing record |georgetown\n",
      "Processing record |lebu\n",
      "Processing record |grindavik\n",
      "Processing record |shirokiy\n",
      "Processing record |skagastrond\n",
      "skagastrond not found. Skipping...\n",
      "Processing record |bikin\n",
      "Processing record |ughelli\n",
      "Processing record |kaoma\n",
      "Processing record |tsihombe\n",
      "tsihombe not found. Skipping...\n",
      "Processing record |gulu\n",
      "Processing record |caravelas\n",
      "Processing record |pringsewu\n",
      "Processing record |airai\n",
      "Processing record |provideniya\n",
      "Processing record |ahipara\n",
      "Processing record |tautira\n",
      "Processing record |mayo\n",
      "Processing record |lompoc\n",
      "Processing record |hithadhoo\n",
      "Processing record |arraial do cabo\n",
      "Processing record |port alfred\n",
      "Processing record |tiksi\n",
      "Processing record |bengkulu\n",
      "Processing record |kodiak\n",
      "Processing record |mys shmidta\n",
      "mys shmidta not found. Skipping...\n",
      "Processing record |padang\n",
      "Processing record |saldanha\n",
      "Processing record |magadan\n",
      "Processing record |walvis bay\n",
      "Processing record |garowe\n",
      "Processing record |illoqqortoormiut\n",
      "illoqqortoormiut not found. Skipping...\n",
      "Processing record |hualmay\n",
      "Processing record |inhambane\n",
      "Processing record |tasiilaq\n",
      "Processing record |ancud\n",
      "Processing record |pisco\n",
      "Processing record |keflavik\n",
      "Processing record |uwayl\n",
      "uwayl not found. Skipping...\n",
      "Processing record |longyearbyen\n",
      "Processing record |manturovo\n",
      "Processing record |grimshaw\n",
      "Processing record |chagda\n",
      "chagda not found. Skipping...\n",
      "Processing record |san patricio\n",
      "Processing record |maple creek\n",
      "Processing record |terme\n",
      "Processing record |mahajanga\n",
      "Processing record |sarmanovo\n",
      "Processing record |hilo\n",
      "Processing record |sorvag\n",
      "sorvag not found. Skipping...\n",
      "Processing record |olafsvik\n",
      "Processing record |kralendijk\n",
      "Processing record |clyde river\n",
      "Processing record |guanica\n",
      "Processing record |bambous virieux\n",
      "Processing record |alakurtti\n",
      "Processing record |cherskiy\n",
      "Processing record |ihiala\n",
      "Processing record |moree\n",
      "Processing record |fairbanks\n",
      "Processing record |iqaluit\n",
      "Processing record |garh maharaja\n",
      "Processing record |severo-kurilsk\n",
      "Processing record |ponta do sol\n",
      "Processing record |puerto escondido\n",
      "Processing record |dryden\n",
      "Processing record |bourail\n",
      "Processing record |new norfolk\n",
      "Processing record |kautokeino\n",
      "Processing record |kerewan\n",
      "Processing record |winnemucca\n",
      "Processing record |avarua\n",
      "Processing record |balkanabat\n",
      "Processing record |kasempa\n",
      "Processing record |anadyr\n",
      "Processing record |atuona\n",
      "Processing record |moberly\n",
      "Processing record |taolanaro\n",
      "taolanaro not found. Skipping...\n",
      "Processing record |san carlos de bariloche\n",
      "Processing record |fortuna\n",
      "Processing record |tsumeb\n",
      "Processing record |caninde\n",
      "Processing record |champerico\n",
      "Processing record |kodinsk\n",
      "Processing record |evanton\n",
      "Processing record |byron bay\n",
      "Processing record |yukhnov\n",
      "Processing record |saint-philippe\n",
      "Processing record |taphan hin\n",
      "Processing record |kiunga\n",
      "Processing record |zhigalovo\n",
      "Processing record |dunedin\n",
      "Processing record |nandikotkur\n",
      "Processing record |tuatapere\n",
      "Processing record |saiki\n",
      "Processing record |baruun-urt\n",
      "Processing record |port lincoln\n",
      "Processing record |mahebourg\n",
      "Processing record |cape town\n",
      "Processing record |marcona\n",
      "marcona not found. Skipping...\n",
      "Processing record |belmonte\n",
      "Processing record |laranjeiras do sul\n",
      "Processing record |mogadishu\n",
      "Processing record |quelimane\n",
      "Processing record |mar del plata\n",
      "Processing record |narsaq\n",
      "Processing record |iquitos\n",
      "Processing record |saint austell\n",
      "Processing record |san cristobal\n",
      "Processing record |tari\n",
      "Processing record |seoul\n",
      "Processing record |batticaloa\n",
      "Processing record |calabozo\n",
      "Processing record |geraldton\n",
      "Processing record |samusu\n",
      "samusu not found. Skipping...\n",
      "Processing record |gilbues\n",
      "Processing record |chuy\n",
      "Processing record |saskylakh\n",
      "Processing record |ribeira grande\n",
      "Processing record |norman wells\n",
      "Processing record |port elizabeth\n",
      "Processing record |richards bay\n",
      "Processing record |mandiana\n",
      "Processing record |xinzhou\n",
      "Processing record |alice springs\n",
      "Processing record |carnarvon\n",
      "Processing record |moses lake\n",
      "Processing record |votkinsk\n",
      "Processing record |bethel\n",
      "Processing record |barcelos\n",
      "Processing record |qujing\n",
      "Processing record |nanortalik\n",
      "Processing record |kyotera\n",
      "Processing record |itoman\n",
      "Processing record |lolua\n",
      "lolua not found. Skipping...\n",
      "Processing record |samarai\n",
      "Processing record |ruwi\n",
      "Processing record |bara\n",
      "Processing record |warora\n",
      "Processing record |miyako\n",
      "Processing record |las choapas\n",
      "Processing record |belushya guba\n",
      "belushya guba not found. Skipping...\n",
      "Processing record |hofn\n",
      "Processing record |gayny\n",
      "Processing record |trairi\n",
      "Processing record |presidente medici\n",
      "Processing record |ayagoz\n",
      "Processing record |sentyabrskiy\n",
      "sentyabrskiy not found. Skipping...\n",
      "Processing record |yangambi\n",
      "Processing record |laurel\n",
      "Processing record |lais\n",
      "Processing record |taoudenni\n",
      "Processing record |margate\n",
      "Processing record |vao\n",
      "Processing record |jiuquan\n",
      "Processing record |baie-saint-paul\n",
      "Processing record |coquimbo\n",
      "Processing record |vikulovo\n",
      "Processing record |sumbawa\n",
      "sumbawa not found. Skipping...\n",
      "Processing record |atar\n",
      "Processing record |meulaboh\n",
      "Processing record |lovozero\n",
      "Processing record |chokurdakh\n",
      "Processing record |vila velha\n",
      "Processing record |racine\n",
      "Processing record |boralday\n",
      "Processing record |kalavad\n",
      "Processing record |mamou\n",
      "Processing record |ixtapa\n",
      "Processing record |saint-pierre\n",
      "Processing record |aquiraz\n",
      "Processing record |alofi\n",
      "Processing record |port blair\n",
      "Processing record |xingcheng\n",
      "Processing record |swan hill\n",
      "Processing record |aklavik\n",
      "Processing record |segou\n",
      "Processing record |vaitupu\n",
      "vaitupu not found. Skipping...\n",
      "Processing record |faya\n",
      "Processing record |kyzyl-suu\n",
      "Processing record |rungata\n",
      "rungata not found. Skipping...\n",
      "Processing record |sawang daen din\n",
      "Processing record |burnie\n",
      "Processing record |kavaratti\n",
      "Processing record |camacha\n",
      "Processing record |praia da vitoria\n",
      "Processing record |launceston\n",
      "Processing record |port hardy\n",
      "Processing record |barentsburg\n",
      "barentsburg not found. Skipping...\n",
      "Processing record |yinchuan\n",
      "Processing record |peace river\n",
      "Processing record |hervey bay\n",
      "Processing record |ust-kamchatsk\n",
      "ust-kamchatsk not found. Skipping...\n",
      "Processing record |touros\n",
      "Processing record |cizre\n",
      "Processing record |dicabisagan\n",
      "Processing record |gupitan\n",
      "Processing record |katherine\n",
      "Processing record |chake chake\n",
      "Processing record |ilulissat\n",
      "Processing record |gilgit\n",
      "Processing record |nelson bay\n",
      "Processing record |nome\n",
      "Processing record |talnakh\n",
      "Processing record |kamenka\n",
      "Processing record |salalah\n",
      "Processing record |sauda\n",
      "Processing record |mandali\n",
      "Processing record |korla\n",
      "Processing record |numan\n",
      "Processing record |tezu\n",
      "Processing record |amderma\n",
      "amderma not found. Skipping...\n",
      "Processing record |broken hill\n",
      "Processing record |angra\n",
      "angra not found. Skipping...\n",
      "Processing record |nabire\n",
      "Processing record |san jose\n",
      "Processing record |powell\n",
      "Processing record |grand river south east\n",
      "grand river south east not found. Skipping...\n",
      "Processing record |mackenzie\n",
      "Processing record |svetlogorsk\n",
      "Processing record |dingle\n",
      "Processing record |urdzhar\n",
      "urdzhar not found. Skipping...\n",
      "Processing record |umm lajj\n",
      "Processing record |pangkalanbuun\n",
      "Processing record |sitka\n",
      "Processing record |kasongo-lunda\n",
      "Processing record |awjilah\n",
      "Processing record |gizo\n",
      "Processing record |lata\n",
      "Processing record |misratah\n",
      "Processing record |vila franca do campo\n",
      "Processing record |hamilton\n",
      "Processing record |waddan\n",
      "Processing record |zhangye\n",
      "Processing record |qurayyat\n",
      "Processing record |prajeni\n",
      "Processing record |sorland\n",
      "Processing record |kijang\n",
      "Processing record |ranot\n",
      "Processing record |mutoko\n",
      "Processing record |east london\n",
      "Processing record |piopio\n",
      "Processing record |marystown\n",
      "Processing record |faanui\n",
      "Processing record |klaksvik\n",
      "Processing record |el faiyum\n",
      "el faiyum not found. Skipping...\n",
      "Processing record |salinopolis\n",
      "Processing record |zhenjiang\n",
      "Processing record |kruisfontein\n",
      "Processing record |tuy hoa\n",
      "Processing record |cayenne\n",
      "Processing record |repelon\n",
      "Processing record |conde\n",
      "Processing record |tessalit\n",
      "Processing record |karatuzskoye\n",
      "Processing record |broome\n",
      "Processing record |sur\n",
      "Processing record |bathsheba\n",
      "Processing record |chumikan\n",
      "Processing record |shikarpur\n",
      "Processing record |maragogi\n",
      "Processing record |cardston\n",
      "Processing record |port keats\n",
      "Processing record |isangel\n",
      "Processing record |yebaishou\n",
      "Processing record |lisala\n",
      "Processing record |kirakira\n",
      "Processing record |adrar\n",
      "Processing record |torbay\n",
      "Processing record |klaeng\n",
      "Processing record |roald\n",
      "Processing record |amli\n",
      "Processing record |le port\n",
      "Processing record |moss point\n",
      "Processing record |harper\n",
      "Processing record |cockburn town\n",
      "Processing record |kudahuvadhoo\n",
      "Processing record |puerto narino\n",
      "Processing record |olinda\n",
      "Processing record |arauco\n",
      "Processing record |metro\n",
      "Processing record |port augusta\n",
      "Processing record |urusha\n",
      "Processing record |paita\n",
      "Processing record |beringovskiy\n",
      "Processing record |emerald\n",
      "Processing record |weligama\n",
      "Processing record |verkhoyansk\n",
      "Processing record |whitehorse\n",
      "Processing record |raton\n",
      "Processing record |guerrero negro\n",
      "Processing record |la ronge\n",
      "Processing record |troitsko-pechorsk\n",
      "Processing record |kathmandu\n",
      "Processing record |meyungs\n",
      "meyungs not found. Skipping...\n",
      "Processing record |wuxue\n",
      "Processing record |sobolevo\n",
      "Processing record |atasu\n",
      "Processing record |rawson\n",
      "Processing record |deputatskiy\n",
      "Processing record |aketi\n",
      "Processing record |norwich\n",
      "Processing record |makurdi\n",
      "Processing record |wilmington\n",
      "Processing record |grants\n",
      "Processing record |sorong\n",
      "Processing record |beyneu\n",
      "Processing record |kaeo\n",
      "Processing record |abu zabad\n",
      "Processing record |brazzaville\n",
      "Processing record |srivardhan\n",
      "Processing record |merauke\n",
      "Processing record |diffa\n",
      "Processing record |shakawe\n",
      "Processing record |hue\n",
      "Processing record |burayevo\n",
      "Processing record |namibe\n",
      "Processing record |albanel\n",
      "Processing record |quepem\n",
      "Processing record |kahului\n",
      "Processing record |pochutla\n",
      "Processing record |sabang\n",
      "Processing record |seinajoki\n",
      "Processing record |lavrentiya\n",
      "Processing record |boa vista\n",
      "Processing record |saint-leu\n",
      "Processing record |pasni\n",
      "Processing record |kolo\n",
      "Processing record |san policarpo\n",
      "Processing record |teguldet\n",
      "Processing record |poya\n",
      "Processing record |brasileia\n",
      "Processing record |saurimo\n",
      "Processing record |aberystwyth\n",
      "Processing record |semypolky\n",
      "Processing record |chala\n",
      "Processing record |lardos\n",
      "Processing record |krasnoselkup\n",
      "Processing record |waggaman\n",
      "Processing record |buala\n",
      "Processing record |chabahar\n",
      "Processing record |tevaitoa\n",
      "Processing record |buin\n",
      "Processing record |hasaki\n",
      "Processing record |henties bay\n",
      "Processing record |ballina\n",
      "Processing record |jalu\n",
      "Processing record |zhezkazgan\n",
      "Processing record |manubul\n",
      "Processing record |potgietersrus\n",
      "potgietersrus not found. Skipping...\n",
      "Processing record |mudanjiang\n",
      "Processing record |longlac\n",
      "longlac not found. Skipping...\n",
      "Processing record |jhansi\n",
      "Processing record |mairana\n",
      "Processing record |la brea\n",
      "Processing record |raychikhinsk\n",
      "Processing record |gornopravdinsk\n",
      "Processing record |cordoba\n",
      "Processing record |angoche\n",
      "Processing record |northam\n",
      "Processing record |beni mazar\n",
      "Processing record |fare\n",
      "Processing record |wattegama\n",
      "Processing record |arona\n",
      "Processing record |ndioum\n",
      "Processing record |vardo\n",
      "Processing record |nizhneyansk\n",
      "nizhneyansk not found. Skipping...\n",
      "Processing record |fort nelson\n",
      "Processing record |okha\n",
      "Processing record |glace bay\n",
      "Processing record |tilichiki\n",
      "Processing record |kegayli\n",
      "kegayli not found. Skipping...\n",
      "Processing record |yulara\n",
      "Processing record |ponta delgada\n",
      "Processing record |kaiyuan\n",
      "Processing record |mani\n",
      "Processing record |saint-joseph\n",
      "Processing record |teguise\n",
      "Processing record |okhotsk\n",
      "Processing record |sistranda\n",
      "Processing record |bandarbeyla\n",
      "Processing record |manyana\n",
      "Processing record |banda aceh\n",
      "Processing record |calatayud\n",
      "Processing record |kokkola\n",
      "Processing record |srednekolymsk\n",
      "Processing record |plouzane\n",
      "Processing record |leningradskiy\n",
      "Processing record |new glasgow\n",
      "Processing record |gorom-gorom\n",
      "Processing record |port moresby\n",
      "Processing record |kaka\n",
      "Processing record |muros\n",
      "Processing record |kiama\n",
      "Processing record |sakakah\n",
      "Processing record |maun\n",
      "Processing record |jizan\n",
      "Processing record |kropotkin\n",
      "Processing record |mehran\n",
      "Processing record |nanchang\n",
      "Processing record |dzhusaly\n",
      "dzhusaly not found. Skipping...\n",
      "Processing record |kampong thum\n",
      "Processing record |san pedro\n",
      "Processing record |lorengau\n",
      "Processing record |vostok\n",
      "Processing record |zaysan\n",
      "Processing record |katsuura\n",
      "Processing record |oudtshoorn\n",
      "Processing record |morristown\n",
      "Processing record |killybegs\n",
      "Processing record |burns lake\n",
      "Processing record |yaan\n",
      "Processing record |chimbote\n",
      "Processing record |luwuk\n",
      "Processing record |berdigestyakh\n",
      "Processing record |tagab\n",
      "Processing record |ibipeba\n",
      "Processing record |aksay\n",
      "Processing record |tarudant\n",
      "tarudant not found. Skipping...\n",
      "Processing record |necochea\n",
      "Processing record |takaka\n",
      "Processing record |yenagoa\n",
      "Processing record |oriximina\n",
      "Processing record |kalmunai\n",
      "Processing record |tumannyy\n",
      "tumannyy not found. Skipping...\n",
      "Processing record |imbituba\n",
      "Processing record |marsa matruh\n",
      "Processing record |devils lake\n",
      "Processing record |luanda\n",
      "Processing record |pangody\n",
      "Processing record |ocampo\n",
      "Processing record |havoysund\n",
      "Processing record |dzaoudzi\n",
      "Processing record |baikunthpur\n",
      "Processing record |cidreira\n",
      "Processing record |hoquiam\n",
      "Processing record |villa carlos paz\n",
      "Processing record |baiyin\n",
      "Processing record |chaa-khol\n",
      "chaa-khol not found. Skipping...\n",
      "Processing record |koslan\n",
      "Processing record |matina\n",
      "Processing record |zhanaozen\n",
      "Processing record |abhar\n",
      "Processing record |ishikari\n",
      "Processing record |phalodi\n",
      "Processing record |ossora\n",
      "Processing record |shubarshi\n",
      "Processing record |san lawrenz\n",
      "Processing record |kloulklubed\n",
      "Processing record |liverpool\n",
      "Processing record |oksfjord\n",
      "Processing record |nong han\n",
      "Processing record |west bridgeford\n",
      "west bridgeford not found. Skipping...\n",
      "Processing record |mehamn\n",
      "Processing record |portland\n",
      "Processing record |vrises\n",
      "Processing record |eregli\n",
      "Processing record |krasnyy kholm\n",
      "Processing record |rudnogorsk\n",
      "Processing record |eganville\n",
      "Processing record |sheridan\n",
      "Processing record |lima\n",
      "Processing record |yerbogachen\n",
      "Processing record |toamasina\n",
      "Processing record |bermeo\n",
      "Processing record |kanker\n",
      "Processing record |bilibino\n",
      "Processing record |nioro\n",
      "Processing record |leshukonskoye\n",
      "Processing record |pitimbu\n",
      "Processing record |leh\n",
      "Processing record |morvi\n",
      "Processing record |twin falls\n",
      "Processing record |te anau\n",
      "Processing record |mangrol\n",
      "Processing record |homer\n",
      "Processing record |chakia\n",
      "Processing record |gamba\n",
      "Processing record |san quintin\n",
      "Processing record |louisbourg\n",
      "louisbourg not found. Skipping...\n",
      "Processing record |toliary\n",
      "toliary not found. Skipping...\n",
      "Processing record |el doncello\n",
      "Processing record |bantry\n",
      "Processing record |rocha\n",
      "Processing record |chiredzi\n",
      "Processing record |bubaque\n",
      "Processing record |chulman\n",
      "Processing record |tomelloso\n",
      "Processing record |ola\n",
      "Processing record |meadow lake\n",
      "Processing record |swan river\n",
      "Processing record |thinadhoo\n",
      "Processing record |boyolangu\n",
      "Processing record |grand-lahou\n",
      "Processing record |saint andrews\n",
      "Processing record |puerto penasco\n",
      "Processing record |san felipe\n",
      "Processing record |matadi\n",
      "Processing record |lae\n",
      "Processing record |mendahara\n",
      "mendahara not found. Skipping...\n",
      "Processing record |qaqortoq\n",
      "Processing record |pirovskoye\n",
      "Processing record |laramie\n",
      "Processing record |panguna\n",
      "Processing record |tarut\n",
      "Processing record |mizan teferi\n",
      "Processing record |collie\n",
      "Processing record |wanning\n",
      "Processing record |ewa beach\n",
      "Processing record |coolum beach\n",
      "Processing record |andevoranto\n",
      "andevoranto not found. Skipping...\n",
      "Processing record |coihaique\n",
      "Processing record |slantsy\n",
      "Processing record |karaul\n",
      "karaul not found. Skipping...\n",
      "Processing record |porto novo\n",
      "Processing record |lazaro cardenas\n",
      "Processing record |qui nhon\n",
      "Processing record |quatre cocos\n",
      "Processing record |honiara\n",
      "Processing record |axim\n",
      "Processing record |el sauzal\n",
      "Processing record |saltangara\n",
      "saltangara not found. Skipping...\n",
      "Processing record |oranjemund\n",
      "Processing record |san jose de gracia\n",
      "Processing record |great yarmouth\n",
      "Processing record |ayios nikolaos\n",
      "Processing record |kirando\n",
      "Processing record |kipushi\n",
      "Processing record |thunder bay\n",
      "Processing record |mersing\n",
      "Processing record |quito\n",
      "Processing record |nuuk\n",
      "Processing record |dawson creek\n",
      "------------------------------\n",
      "Ending Data Retrieval\n",
      "------------------------------\n"
     ]
    }
   ],
   "source": [
    "\n",
    "# Empty lists to group data\n",
    "city_name = []\n",
    "Lat = []\n",
    "Long = []\n",
    "Max_Temp = []\n",
    "Humidity = []\n",
    "Cloudiness = []\n",
    "Wind_Speed = []\n",
    "Country = []\n",
    "Date = []\n",
    "\n",
    "# Begin for loop, append relevant data and print log\n",
    "print(\"Beginning Data Retrieval\")\n",
    "print(\"-\"*30)\n",
    "for city in cities:\n",
    "    try:\n",
    "        response = requests.get(url + city+'&appid='+weather_api_key).json()\n",
    "        print(\"Processing record |\" + city)\n",
    "        city_name.append(response[\"name\"])\n",
    "        Lat.append(response[\"coord\"][\"lat\"])\n",
    "        Long.append(response[\"coord\"][\"lon\"])\n",
    "        Max_Temp.append(response[\"main\"][\"temp_max\"])\n",
    "        Humidity.append(response[\"main\"][\"humidity\"])\n",
    "        Cloudiness.append(response[\"clouds\"][\"all\"])\n",
    "        Wind_Speed.append(response[\"wind\"][\"speed\"])\n",
    "        Country.append(response[\"sys\"][\"country\"])\n",
    "        Date.append(response[\"dt\"])\n",
    "    except:\n",
    "        print(city + \" not found. Skipping...\")\n",
    "print(\"-\"*30)\n",
    "print(\"Ending Data Retrieval\")\n",
    "print(\"-\"*30)"
   ]
  },
  {
   "cell_type": "markdown",
   "metadata": {},
   "source": [
    "### Convert Raw Data to DataFrame\n",
    "* Export the city data into a .csv.\n",
    "* Display the DataFrame"
   ]
  },
  {
   "cell_type": "code",
   "execution_count": 8,
   "metadata": {},
   "outputs": [
    {
     "data": {
      "text/html": [
       "<div>\n",
       "<style scoped>\n",
       "    .dataframe tbody tr th:only-of-type {\n",
       "        vertical-align: middle;\n",
       "    }\n",
       "\n",
       "    .dataframe tbody tr th {\n",
       "        vertical-align: top;\n",
       "    }\n",
       "\n",
       "    .dataframe thead th {\n",
       "        text-align: right;\n",
       "    }\n",
       "</style>\n",
       "<table border=\"1\" class=\"dataframe\">\n",
       "  <thead>\n",
       "    <tr style=\"text-align: right;\">\n",
       "      <th></th>\n",
       "      <th>City Name</th>\n",
       "      <th>Latitude</th>\n",
       "      <th>Longtitude</th>\n",
       "      <th>Max Temperature</th>\n",
       "      <th>Humidity</th>\n",
       "      <th>Cloudiness</th>\n",
       "      <th>Wind Speed</th>\n",
       "      <th>Country</th>\n",
       "      <th>Date</th>\n",
       "    </tr>\n",
       "  </thead>\n",
       "  <tbody>\n",
       "    <tr>\n",
       "      <th>0</th>\n",
       "      <td>Tūkrah</td>\n",
       "      <td>32.5341</td>\n",
       "      <td>20.5791</td>\n",
       "      <td>300.71</td>\n",
       "      <td>40</td>\n",
       "      <td>0</td>\n",
       "      <td>2.22</td>\n",
       "      <td>LY</td>\n",
       "      <td>1663318021</td>\n",
       "    </tr>\n",
       "    <tr>\n",
       "      <th>1</th>\n",
       "      <td>Russell</td>\n",
       "      <td>32.3502</td>\n",
       "      <td>-85.1999</td>\n",
       "      <td>292.72</td>\n",
       "      <td>100</td>\n",
       "      <td>0</td>\n",
       "      <td>0.00</td>\n",
       "      <td>US</td>\n",
       "      <td>1663317979</td>\n",
       "    </tr>\n",
       "    <tr>\n",
       "      <th>2</th>\n",
       "      <td>Mil'kovo</td>\n",
       "      <td>54.7167</td>\n",
       "      <td>158.6167</td>\n",
       "      <td>278.07</td>\n",
       "      <td>87</td>\n",
       "      <td>42</td>\n",
       "      <td>3.25</td>\n",
       "      <td>RU</td>\n",
       "      <td>1663318022</td>\n",
       "    </tr>\n",
       "    <tr>\n",
       "      <th>3</th>\n",
       "      <td>Arrondissement de Roanne</td>\n",
       "      <td>46.0000</td>\n",
       "      <td>4.0000</td>\n",
       "      <td>286.45</td>\n",
       "      <td>87</td>\n",
       "      <td>44</td>\n",
       "      <td>2.81</td>\n",
       "      <td>FR</td>\n",
       "      <td>1663318022</td>\n",
       "    </tr>\n",
       "    <tr>\n",
       "      <th>4</th>\n",
       "      <td>Thompson</td>\n",
       "      <td>55.7435</td>\n",
       "      <td>-97.8558</td>\n",
       "      <td>277.24</td>\n",
       "      <td>100</td>\n",
       "      <td>0</td>\n",
       "      <td>0.00</td>\n",
       "      <td>CA</td>\n",
       "      <td>1663318023</td>\n",
       "    </tr>\n",
       "  </tbody>\n",
       "</table>\n",
       "</div>"
      ],
      "text/plain": [
       "                  City Name  Latitude  Longtitude  Max Temperature  Humidity  \\\n",
       "0                    Tūkrah   32.5341     20.5791           300.71        40   \n",
       "1                   Russell   32.3502    -85.1999           292.72       100   \n",
       "2                  Mil'kovo   54.7167    158.6167           278.07        87   \n",
       "3  Arrondissement de Roanne   46.0000      4.0000           286.45        87   \n",
       "4                  Thompson   55.7435    -97.8558           277.24       100   \n",
       "\n",
       "   Cloudiness  Wind Speed Country        Date  \n",
       "0           0        2.22      LY  1663318021  \n",
       "1           0        0.00      US  1663317979  \n",
       "2          42        3.25      RU  1663318022  \n",
       "3          44        2.81      FR  1663318022  \n",
       "4           0        0.00      CA  1663318023  "
      ]
     },
     "execution_count": 8,
     "metadata": {},
     "output_type": "execute_result"
    }
   ],
   "source": [
    "# Gather the data and convert into a dataframe\n",
    "cities_dict = ({\n",
    "    \"City Name\":city_name,\n",
    "    \"Latitude\":Lat,\n",
    "    \"Longtitude\":Long,\n",
    "    \"Max Temperature\":Max_Temp,\n",
    "    \"Humidity\":Humidity,\n",
    "    \"Cloudiness\":Cloudiness,\n",
    "    \"Wind Speed\":Wind_Speed,\n",
    "    \"Country\":Country,\n",
    "    \"Date\":Date\n",
    "})\n",
    "\n",
    "cities_df=pd.DataFrame(cities_dict)\n",
    "cities_df.head()"
   ]
  },
  {
   "cell_type": "code",
   "execution_count": 13,
   "metadata": {},
   "outputs": [
    {
     "data": {
      "text/html": [
       "<div>\n",
       "<style scoped>\n",
       "    .dataframe tbody tr th:only-of-type {\n",
       "        vertical-align: middle;\n",
       "    }\n",
       "\n",
       "    .dataframe tbody tr th {\n",
       "        vertical-align: top;\n",
       "    }\n",
       "\n",
       "    .dataframe thead th {\n",
       "        text-align: right;\n",
       "    }\n",
       "</style>\n",
       "<table border=\"1\" class=\"dataframe\">\n",
       "  <thead>\n",
       "    <tr style=\"text-align: right;\">\n",
       "      <th></th>\n",
       "      <th>Latitude</th>\n",
       "      <th>Longtitude</th>\n",
       "      <th>Max Temperature</th>\n",
       "      <th>Humidity</th>\n",
       "      <th>Cloudiness</th>\n",
       "      <th>Wind Speed</th>\n",
       "      <th>Date</th>\n",
       "    </tr>\n",
       "  </thead>\n",
       "  <tbody>\n",
       "    <tr>\n",
       "      <th>count</th>\n",
       "      <td>567.000000</td>\n",
       "      <td>567.000000</td>\n",
       "      <td>567.000000</td>\n",
       "      <td>567.000000</td>\n",
       "      <td>567.000000</td>\n",
       "      <td>567.000000</td>\n",
       "      <td>5.670000e+02</td>\n",
       "    </tr>\n",
       "    <tr>\n",
       "      <th>mean</th>\n",
       "      <td>19.784949</td>\n",
       "      <td>20.284108</td>\n",
       "      <td>292.795996</td>\n",
       "      <td>70.597884</td>\n",
       "      <td>55.156966</td>\n",
       "      <td>3.752310</td>\n",
       "      <td>1.663318e+09</td>\n",
       "    </tr>\n",
       "    <tr>\n",
       "      <th>std</th>\n",
       "      <td>33.073343</td>\n",
       "      <td>90.374161</td>\n",
       "      <td>9.001025</td>\n",
       "      <td>21.896493</td>\n",
       "      <td>40.429999</td>\n",
       "      <td>2.496215</td>\n",
       "      <td>1.210977e+02</td>\n",
       "    </tr>\n",
       "    <tr>\n",
       "      <th>min</th>\n",
       "      <td>-54.800000</td>\n",
       "      <td>-175.200000</td>\n",
       "      <td>270.350000</td>\n",
       "      <td>9.000000</td>\n",
       "      <td>0.000000</td>\n",
       "      <td>0.000000</td>\n",
       "      <td>1.663317e+09</td>\n",
       "    </tr>\n",
       "    <tr>\n",
       "      <th>25%</th>\n",
       "      <td>-6.990900</td>\n",
       "      <td>-59.126750</td>\n",
       "      <td>285.305000</td>\n",
       "      <td>61.000000</td>\n",
       "      <td>13.000000</td>\n",
       "      <td>1.840000</td>\n",
       "      <td>1.663318e+09</td>\n",
       "    </tr>\n",
       "    <tr>\n",
       "      <th>50%</th>\n",
       "      <td>21.650000</td>\n",
       "      <td>23.889900</td>\n",
       "      <td>294.340000</td>\n",
       "      <td>76.000000</td>\n",
       "      <td>64.000000</td>\n",
       "      <td>3.130000</td>\n",
       "      <td>1.663318e+09</td>\n",
       "    </tr>\n",
       "    <tr>\n",
       "      <th>75%</th>\n",
       "      <td>47.887850</td>\n",
       "      <td>99.752850</td>\n",
       "      <td>300.125000</td>\n",
       "      <td>86.500000</td>\n",
       "      <td>100.000000</td>\n",
       "      <td>5.220000</td>\n",
       "      <td>1.663318e+09</td>\n",
       "    </tr>\n",
       "    <tr>\n",
       "      <th>max</th>\n",
       "      <td>78.218600</td>\n",
       "      <td>179.316700</td>\n",
       "      <td>313.300000</td>\n",
       "      <td>100.000000</td>\n",
       "      <td>100.000000</td>\n",
       "      <td>13.380000</td>\n",
       "      <td>1.663318e+09</td>\n",
       "    </tr>\n",
       "  </tbody>\n",
       "</table>\n",
       "</div>"
      ],
      "text/plain": [
       "         Latitude  Longtitude  Max Temperature    Humidity  Cloudiness  \\\n",
       "count  567.000000  567.000000       567.000000  567.000000  567.000000   \n",
       "mean    19.784949   20.284108       292.795996   70.597884   55.156966   \n",
       "std     33.073343   90.374161         9.001025   21.896493   40.429999   \n",
       "min    -54.800000 -175.200000       270.350000    9.000000    0.000000   \n",
       "25%     -6.990900  -59.126750       285.305000   61.000000   13.000000   \n",
       "50%     21.650000   23.889900       294.340000   76.000000   64.000000   \n",
       "75%     47.887850   99.752850       300.125000   86.500000  100.000000   \n",
       "max     78.218600  179.316700       313.300000  100.000000  100.000000   \n",
       "\n",
       "       Wind Speed          Date  \n",
       "count  567.000000  5.670000e+02  \n",
       "mean     3.752310  1.663318e+09  \n",
       "std      2.496215  1.210977e+02  \n",
       "min      0.000000  1.663317e+09  \n",
       "25%      1.840000  1.663318e+09  \n",
       "50%      3.130000  1.663318e+09  \n",
       "75%      5.220000  1.663318e+09  \n",
       "max     13.380000  1.663318e+09  "
      ]
     },
     "execution_count": 13,
     "metadata": {},
     "output_type": "execute_result"
    }
   ],
   "source": [
    "# Confirm output file and export data into a csv\n",
    "output_csv='output_data/cities.csv'\n",
    "\n",
    "cities_df.to_csv(output_csv,header=True,index=False)\n",
    "cities_df.describe()"
   ]
  },
  {
   "cell_type": "markdown",
   "metadata": {},
   "source": [
    "## Inspect the data and remove the cities where the humidity > 100%."
   ]
  },
  {
   "cell_type": "code",
   "execution_count": 24,
   "metadata": {},
   "outputs": [
    {
     "data": {
      "text/html": [
       "<div>\n",
       "<style scoped>\n",
       "    .dataframe tbody tr th:only-of-type {\n",
       "        vertical-align: middle;\n",
       "    }\n",
       "\n",
       "    .dataframe tbody tr th {\n",
       "        vertical-align: top;\n",
       "    }\n",
       "\n",
       "    .dataframe thead th {\n",
       "        text-align: right;\n",
       "    }\n",
       "</style>\n",
       "<table border=\"1\" class=\"dataframe\">\n",
       "  <thead>\n",
       "    <tr style=\"text-align: right;\">\n",
       "      <th></th>\n",
       "      <th>City Name</th>\n",
       "      <th>Latitude</th>\n",
       "      <th>Longtitude</th>\n",
       "      <th>Max Temperature</th>\n",
       "      <th>Humidity</th>\n",
       "      <th>Cloudiness</th>\n",
       "      <th>Wind Speed</th>\n",
       "      <th>Country</th>\n",
       "      <th>Date</th>\n",
       "    </tr>\n",
       "  </thead>\n",
       "  <tbody>\n",
       "    <tr>\n",
       "      <th>0</th>\n",
       "      <td>Tūkrah</td>\n",
       "      <td>32.5341</td>\n",
       "      <td>20.5791</td>\n",
       "      <td>300.71</td>\n",
       "      <td>40</td>\n",
       "      <td>0</td>\n",
       "      <td>2.22</td>\n",
       "      <td>LY</td>\n",
       "      <td>1663318021</td>\n",
       "    </tr>\n",
       "    <tr>\n",
       "      <th>2</th>\n",
       "      <td>Mil'kovo</td>\n",
       "      <td>54.7167</td>\n",
       "      <td>158.6167</td>\n",
       "      <td>278.07</td>\n",
       "      <td>87</td>\n",
       "      <td>42</td>\n",
       "      <td>3.25</td>\n",
       "      <td>RU</td>\n",
       "      <td>1663318022</td>\n",
       "    </tr>\n",
       "    <tr>\n",
       "      <th>3</th>\n",
       "      <td>Arrondissement de Roanne</td>\n",
       "      <td>46.0000</td>\n",
       "      <td>4.0000</td>\n",
       "      <td>286.45</td>\n",
       "      <td>87</td>\n",
       "      <td>44</td>\n",
       "      <td>2.81</td>\n",
       "      <td>FR</td>\n",
       "      <td>1663318022</td>\n",
       "    </tr>\n",
       "    <tr>\n",
       "      <th>5</th>\n",
       "      <td>Hambantota</td>\n",
       "      <td>6.1241</td>\n",
       "      <td>81.1185</td>\n",
       "      <td>308.34</td>\n",
       "      <td>55</td>\n",
       "      <td>20</td>\n",
       "      <td>6.17</td>\n",
       "      <td>LK</td>\n",
       "      <td>1663318023</td>\n",
       "    </tr>\n",
       "    <tr>\n",
       "      <th>6</th>\n",
       "      <td>Churapcha</td>\n",
       "      <td>62.0025</td>\n",
       "      <td>132.4325</td>\n",
       "      <td>278.33</td>\n",
       "      <td>57</td>\n",
       "      <td>11</td>\n",
       "      <td>2.08</td>\n",
       "      <td>RU</td>\n",
       "      <td>1663318023</td>\n",
       "    </tr>\n",
       "    <tr>\n",
       "      <th>...</th>\n",
       "      <td>...</td>\n",
       "      <td>...</td>\n",
       "      <td>...</td>\n",
       "      <td>...</td>\n",
       "      <td>...</td>\n",
       "      <td>...</td>\n",
       "      <td>...</td>\n",
       "      <td>...</td>\n",
       "      <td>...</td>\n",
       "    </tr>\n",
       "    <tr>\n",
       "      <th>560</th>\n",
       "      <td>Kirando</td>\n",
       "      <td>-7.4167</td>\n",
       "      <td>30.6000</td>\n",
       "      <td>301.45</td>\n",
       "      <td>44</td>\n",
       "      <td>38</td>\n",
       "      <td>4.12</td>\n",
       "      <td>TZ</td>\n",
       "      <td>1663318147</td>\n",
       "    </tr>\n",
       "    <tr>\n",
       "      <th>561</th>\n",
       "      <td>Kipushi</td>\n",
       "      <td>-11.7667</td>\n",
       "      <td>27.2333</td>\n",
       "      <td>299.83</td>\n",
       "      <td>30</td>\n",
       "      <td>89</td>\n",
       "      <td>3.53</td>\n",
       "      <td>CD</td>\n",
       "      <td>1663318200</td>\n",
       "    </tr>\n",
       "    <tr>\n",
       "      <th>563</th>\n",
       "      <td>Mersing</td>\n",
       "      <td>2.4312</td>\n",
       "      <td>103.8405</td>\n",
       "      <td>305.10</td>\n",
       "      <td>70</td>\n",
       "      <td>40</td>\n",
       "      <td>3.60</td>\n",
       "      <td>MY</td>\n",
       "      <td>1663318200</td>\n",
       "    </tr>\n",
       "    <tr>\n",
       "      <th>564</th>\n",
       "      <td>Quito</td>\n",
       "      <td>-0.2299</td>\n",
       "      <td>-78.5249</td>\n",
       "      <td>282.68</td>\n",
       "      <td>82</td>\n",
       "      <td>97</td>\n",
       "      <td>1.02</td>\n",
       "      <td>EC</td>\n",
       "      <td>1663317791</td>\n",
       "    </tr>\n",
       "    <tr>\n",
       "      <th>566</th>\n",
       "      <td>Dawson Creek</td>\n",
       "      <td>55.7666</td>\n",
       "      <td>-120.2362</td>\n",
       "      <td>279.95</td>\n",
       "      <td>76</td>\n",
       "      <td>0</td>\n",
       "      <td>1.03</td>\n",
       "      <td>CA</td>\n",
       "      <td>1663318201</td>\n",
       "    </tr>\n",
       "  </tbody>\n",
       "</table>\n",
       "<p>556 rows × 9 columns</p>\n",
       "</div>"
      ],
      "text/plain": [
       "                    City Name  Latitude  Longtitude  Max Temperature  \\\n",
       "0                      Tūkrah   32.5341     20.5791           300.71   \n",
       "2                    Mil'kovo   54.7167    158.6167           278.07   \n",
       "3    Arrondissement de Roanne   46.0000      4.0000           286.45   \n",
       "5                  Hambantota    6.1241     81.1185           308.34   \n",
       "6                   Churapcha   62.0025    132.4325           278.33   \n",
       "..                        ...       ...         ...              ...   \n",
       "560                   Kirando   -7.4167     30.6000           301.45   \n",
       "561                   Kipushi  -11.7667     27.2333           299.83   \n",
       "563                   Mersing    2.4312    103.8405           305.10   \n",
       "564                     Quito   -0.2299    -78.5249           282.68   \n",
       "566              Dawson Creek   55.7666   -120.2362           279.95   \n",
       "\n",
       "     Humidity  Cloudiness  Wind Speed Country        Date  \n",
       "0          40           0        2.22      LY  1663318021  \n",
       "2          87          42        3.25      RU  1663318022  \n",
       "3          87          44        2.81      FR  1663318022  \n",
       "5          55          20        6.17      LK  1663318023  \n",
       "6          57          11        2.08      RU  1663318023  \n",
       "..        ...         ...         ...     ...         ...  \n",
       "560        44          38        4.12      TZ  1663318147  \n",
       "561        30          89        3.53      CD  1663318200  \n",
       "563        70          40        3.60      MY  1663318200  \n",
       "564        82          97        1.02      EC  1663317791  \n",
       "566        76           0        1.03      CA  1663318201  \n",
       "\n",
       "[556 rows x 9 columns]"
      ]
     },
     "execution_count": 24,
     "metadata": {},
     "output_type": "execute_result"
    }
   ],
   "source": [
    "#Confirming no cities have humidity over 100%.\n",
    "humidity_over_100 = cities_df.loc[cities_df[\"Humidity\"] < 100]\n",
    "humidity_over_100"
   ]
  },
  {
   "cell_type": "markdown",
   "metadata": {},
   "source": [
    "## Plotting the Data\n",
    "* Use proper labelling of the plots using plot titles (including date of analysis) and axes labels.\n",
    "* Save the plotted figures as .pngs."
   ]
  },
  {
   "cell_type": "markdown",
   "metadata": {},
   "source": [
    "## Latitude vs. Temperature Plot"
   ]
  },
  {
   "cell_type": "code",
   "execution_count": 26,
   "metadata": {
    "scrolled": true
   },
   "outputs": [
    {
     "data": {
      "image/png": "[encoded data removed]",
      "text/plain": [
       "<Figure size 432x288 with 1 Axes>"
      ]
     },
     "metadata": {
      "needs_background": "light"
     },
     "output_type": "display_data"
    }
   ],
   "source": [
    "plt.scatter(cities_df[\"Latitude\"],cities_df[\"Max Temperature\"])\n",
    "plt.xlabel(\"Latitude\")\n",
    "plt.ylabel(\"Max Temperature (C)\")\n",
    "plt.title(\"City Latitude vs. Max Temperature (16/09/2022)\");\n",
    "plt.savefig(\"output_data/Img01\")"
   ]
  },
  {
   "cell_type": "markdown",
   "metadata": {},
   "source": [
    "The above scatter plot indicates that as cities get closer to the equator, where Latitude is 0, the Cities' Max Temperature is going to be hotter than cities further away from the equator. Additionally, it shows that for the date that the data was requested it was Summer in the Northern Hemispher as overall the cities above the Equator, where Latitude is greater than 0, are generally higher than the temperature of the cities below the Equator."
   ]
  },
  {
   "cell_type": "markdown",
   "metadata": {},
   "source": [
    "## Latitude vs. Humidity Plot"
   ]
  },
  {
   "cell_type": "code",
   "execution_count": 28,
   "metadata": {
    "scrolled": true
   },
   "outputs": [
    {
     "data": {
      "image/png": "[encoded data removed]",
      "text/plain": [
       "<Figure size 432x288 with 1 Axes>"
      ]
     },
     "metadata": {
      "needs_background": "light"
     },
     "output_type": "display_data"
    }
   ],
   "source": [
    "plt.scatter(cities_df[\"Latitude\"],cities_df[\"Humidity\"])\n",
    "plt.xlabel(\"Latitude\")\n",
    "plt.ylabel(\"Humidity (%)\")\n",
    "plt.title(\"City Latitude vs. Humidity (16/09/2022)\");\n",
    "plt.savefig(\"output_data/Img02\")"
   ]
  },
  {
   "cell_type": "markdown",
   "metadata": {},
   "source": [
    "This scatter plot is analysing whether there is a relationship between the humidity of a city to its latitude. It seems that overall the sample cities have a humidity over 40% on the day the data is pulled."
   ]
  },
  {
   "cell_type": "markdown",
   "metadata": {},
   "source": [
    "## Latitude vs. Cloudiness Plot"
   ]
  },
  {
   "cell_type": "code",
   "execution_count": 29,
   "metadata": {
    "scrolled": true
   },
   "outputs": [
    {
     "data": {
      "image/png": "[encoded data removed]",
      "text/plain": [
       "<Figure size 432x288 with 1 Axes>"
      ]
     },
     "metadata": {
      "needs_background": "light"
     },
     "output_type": "display_data"
    }
   ],
   "source": [
    "plt.scatter(cities_df[\"Latitude\"],cities_df[\"Cloudiness\"])\n",
    "plt.xlabel(\"Latitude\")\n",
    "plt.ylabel(\"Cloudiness (%)\")\n",
    "plt.title(\"City Latitude vs. Cloudiness (16/09/2022)\");\n",
    "plt.savefig(\"output_data/Img03\")"
   ]
  },
  {
   "cell_type": "markdown",
   "metadata": {},
   "source": [
    "In this scatter plot the Cloudiness of the sample city is being plotted against the cities' Latitude. It seems that the Cloudiness is not correlated to the Latitude of the city."
   ]
  },
  {
   "cell_type": "markdown",
   "metadata": {},
   "source": [
    "## Latitude vs. Wind Speed Plot"
   ]
  },
  {
   "cell_type": "code",
   "execution_count": 30,
   "metadata": {
    "scrolled": true
   },
   "outputs": [
    {
     "data": {
      "image/png": "[encoded data removed]",
      "text/plain": [
       "<Figure size 432x288 with 1 Axes>"
      ]
     },
     "metadata": {
      "needs_background": "light"
     },
     "output_type": "display_data"
    }
   ],
   "source": [
    "plt.scatter(cities_df[\"Latitude\"],cities_df[\"Wind Speed\"])\n",
    "plt.xlabel(\"Latitude\")\n",
    "plt.ylabel(\"Wind Speed (m/s)\")\n",
    "plt.title(\"City Latitude vs. Wind Speed (16/09/2022)\");\n",
    "plt.savefig(\"output_data/Img04\")"
   ]
  },
  {
   "cell_type": "markdown",
   "metadata": {},
   "source": [
    "Above we are plotting Wind Speed against the Latitude of the sample cities."
   ]
  },
  {
   "cell_type": "markdown",
   "metadata": {},
   "source": [
    "## Linear Regression"
   ]
  },
  {
   "cell_type": "code",
   "execution_count": 31,
   "metadata": {},
   "outputs": [],
   "source": [
    "# Create two dataframes for both hemispheres\n",
    "northern_hemi = cities_df.loc[cities_df[\"Latitude\"] > 0]\n",
    "southern_hemi = cities_df.loc[cities_df[\"Latitude\"] < 0]"
   ]
  },
  {
   "cell_type": "markdown",
   "metadata": {},
   "source": [
    "###  Max Temp vs. Latitude Linear Regression"
   ]
  },
  {
   "cell_type": "markdown",
   "metadata": {},
   "source": [
    "####  Northern Hemisphere - Max Temp vs. Latitude Linear Regression"
   ]
  },
  {
   "cell_type": "code",
   "execution_count": 32,
   "metadata": {
    "scrolled": true
   },
   "outputs": [
    {
     "name": "stdout",
     "output_type": "stream",
     "text": [
      "The r-value is: -0.8205954075446157\n"
     ]
    },
    {
     "data": {
      "image/png": "[encoded data removed]",
      "text/plain": [
       "<Figure size 432x288 with 1 Axes>"
      ]
     },
     "metadata": {
      "needs_background": "light"
     },
     "output_type": "display_data"
    }
   ],
   "source": [
    "x_values = northern_hemi[\"Latitude\"]\n",
    "y_values = northern_hemi[\"Max Temperature\"]\n",
    "\n",
    "(slope, intercept, rvalue, pvalue, stderr) = linregress(x_values, y_values)\n",
    "regress_values = x_values * slope + intercept\n",
    "line_eq = \"y = \" + str(round(slope,2)) + \"x + \" + str(round(intercept,2))\n",
    "plt.scatter(x_values, y_values)\n",
    "plt.plot(x_values,regress_values,\"r-\")\n",
    "plt.annotate(line_eq,(5,0),fontsize=15,color=\"red\")\n",
    "plt.ylabel(\"Max Temperature (C)\")\n",
    "plt.xlabel(\"Latitude\")\n",
    "print(f\"The r-value is: {rvalue}\")\n",
    "plt.show();"
   ]
  },
  {
   "cell_type": "markdown",
   "metadata": {},
   "source": [
    "The above table is demonstrating the relationship between a cities Latitude and it's Max Temperature. The R-Value indicates a fairly strong relationship that the further north (a greater Latitude figure) the lower the temperature."
   ]
  },
  {
   "cell_type": "markdown",
   "metadata": {},
   "source": [
    "####  Southern Hemisphere - Max Temp vs. Latitude Linear Regression"
   ]
  },
  {
   "cell_type": "code",
   "execution_count": 33,
   "metadata": {
    "scrolled": true
   },
   "outputs": [
    {
     "name": "stdout",
     "output_type": "stream",
     "text": [
      "The r-value is: 0.734017440728939\n"
     ]
    },
    {
     "data": {
      "image/png": "[encoded data removed]",
      "text/plain": [
       "<Figure size 432x288 with 1 Axes>"
      ]
     },
     "metadata": {
      "needs_background": "light"
     },
     "output_type": "display_data"
    }
   ],
   "source": [
    "x_values = southern_hemi[\"Latitude\"]\n",
    "y_values = southern_hemi[\"Max Temperature\"]\n",
    "\n",
    "(slope, intercept, rvalue, pvalue, stderr) = linregress(x_values, y_values)\n",
    "regress_values = x_values * slope + intercept\n",
    "line_eq = \"y = \" + str(round(slope,2)) + \"x + \" + str(round(intercept,2))\n",
    "plt.scatter(x_values, y_values)\n",
    "plt.plot(x_values,regress_values,\"r-\")\n",
    "plt.annotate(line_eq,(-50,30),fontsize=15,color=\"red\")\n",
    "plt.ylabel(\"Max Temperature (C)\")\n",
    "plt.xlabel(\"Latitude\")\n",
    "print(f\"The r-value is: {rvalue}\")\n",
    "plt.show();"
   ]
  },
  {
   "cell_type": "markdown",
   "metadata": {},
   "source": [
    "In comparison to the Northern Hemisphere, for the Southen Hemisphere the further south (a smaller Latitude figure) the temperature will get lower. The R-Value indicates a strong relationship between a Souther Hemisphere's city's Latitude and Max Temperature."
   ]
  },
  {
   "cell_type": "markdown",
   "metadata": {},
   "source": [
    "### Humidity (%) vs. Latitude Linear Regression"
   ]
  },
  {
   "cell_type": "markdown",
   "metadata": {},
   "source": [
    "####  Northern Hemisphere - Humidity (%) vs. Latitude Linear Regression"
   ]
  },
  {
   "cell_type": "code",
   "execution_count": 34,
   "metadata": {
    "scrolled": true
   },
   "outputs": [
    {
     "name": "stdout",
     "output_type": "stream",
     "text": [
      "The r-value is: 0.11509348244784315\n"
     ]
    },
    {
     "data": {
      "image/png": "[encoded data removed]",
      "text/plain": [
       "<Figure size 432x288 with 1 Axes>"
      ]
     },
     "metadata": {
      "needs_background": "light"
     },
     "output_type": "display_data"
    }
   ],
   "source": [
    "x_values = northern_hemi[\"Latitude\"]\n",
    "y_values = northern_hemi[\"Humidity\"]\n",
    "\n",
    "(slope, intercept, rvalue, pvalue, stderr) = linregress(x_values, y_values)\n",
    "regress_values = x_values * slope + intercept\n",
    "line_eq = \"y = \" + str(round(slope,2)) + \"x + \" + str(round(intercept,2))\n",
    "plt.scatter(x_values, y_values)\n",
    "plt.plot(x_values,regress_values,\"r-\")\n",
    "plt.annotate(line_eq,(5,20),fontsize=15,color=\"red\")\n",
    "plt.ylabel(\"Humidity (%)\")\n",
    "plt.xlabel(\"Latitude\")\n",
    "print(f\"The r-value is: {rvalue}\")\n",
    "plt.show();"
   ]
  },
  {
   "cell_type": "markdown",
   "metadata": {},
   "source": [
    "The above scatter plot shows a cities' Latitude to its Humidity. While there is a very slight positive linear regression the r-value is far too low to indicate a correlation."
   ]
  },
  {
   "cell_type": "markdown",
   "metadata": {},
   "source": [
    "####  Southern Hemisphere - Humidity (%) vs. Latitude Linear Regression"
   ]
  },
  {
   "cell_type": "code",
   "execution_count": 35,
   "metadata": {
    "scrolled": true
   },
   "outputs": [
    {
     "name": "stdout",
     "output_type": "stream",
     "text": [
      "The r-value is: -0.05013860315570505\n"
     ]
    },
    {
     "data": {
      "image/png": "[encoded data removed]",
      "text/plain": [
       "<Figure size 432x288 with 1 Axes>"
      ]
     },
     "metadata": {
      "needs_background": "light"
     },
     "output_type": "display_data"
    }
   ],
   "source": [
    "x_values = southern_hemi[\"Latitude\"]\n",
    "y_values = southern_hemi[\"Humidity\"]\n",
    "\n",
    "(slope, intercept, rvalue, pvalue, stderr) = linregress(x_values, y_values)\n",
    "regress_values = x_values * slope + intercept\n",
    "line_eq = \"y = \" + str(round(slope,2)) + \"x + \" + str(round(intercept,2))\n",
    "plt.scatter(x_values, y_values)\n",
    "plt.plot(x_values,regress_values,\"r-\")\n",
    "plt.annotate(line_eq,(-50,20),fontsize=15,color=\"red\")\n",
    "plt.ylabel(\"Humidity (%)\")\n",
    "plt.xlabel(\"Latitude\")\n",
    "print(f\"The r-value is: {rvalue}\")\n",
    "plt.show();"
   ]
  },
  {
   "cell_type": "markdown",
   "metadata": {},
   "source": [
    "While the Northern Hemispher has a positive linear regression between Humidity and Latitude, the Southern Hemisphere has a negative linear regression. The r-value is greater but I believe this is due to the smaller sample size compared to the Northern Hemisphere."
   ]
  },
  {
   "cell_type": "markdown",
   "metadata": {},
   "source": [
    "### Cloudiness (%) vs. Latitude Linear Regression"
   ]
  },
  {
   "cell_type": "markdown",
   "metadata": {},
   "source": [
    "####  Northern Hemisphere - Cloudiness (%) vs. Latitude Linear Regression"
   ]
  },
  {
   "cell_type": "code",
   "execution_count": 36,
   "metadata": {},
   "outputs": [
    {
     "name": "stdout",
     "output_type": "stream",
     "text": [
      "The r-value is: 0.16068698581253812\n"
     ]
    },
    {
     "data": {
      "image/png": "[encoded data removed]",
      "text/plain": [
       "<Figure size 432x288 with 1 Axes>"
      ]
     },
     "metadata": {
      "needs_background": "light"
     },
     "output_type": "display_data"
    }
   ],
   "source": [
    "x_values = northern_hemi[\"Latitude\"]\n",
    "y_values = northern_hemi[\"Cloudiness\"]\n",
    "\n",
    "(slope, intercept, rvalue, pvalue, stderr) = linregress(x_values, y_values)\n",
    "regress_values = x_values * slope + intercept\n",
    "line_eq = \"y = \" + str(round(slope,2)) + \"x + \" + str(round(intercept,2))\n",
    "plt.scatter(x_values, y_values)\n",
    "plt.plot(x_values,regress_values,\"r-\")\n",
    "plt.annotate(line_eq,(5,10),fontsize=15,color=\"red\")\n",
    "plt.ylabel(\"Cloudiness (%)\")\n",
    "plt.xlabel(\"Latitude\")\n",
    "print(f\"The r-value is: {rvalue}\")\n",
    "plt.show();"
   ]
  },
  {
   "cell_type": "markdown",
   "metadata": {},
   "source": [
    "####  Southern Hemisphere - Cloudiness (%) vs. Latitude Linear Regression"
   ]
  },
  {
   "cell_type": "code",
   "execution_count": 37,
   "metadata": {},
   "outputs": [
    {
     "name": "stdout",
     "output_type": "stream",
     "text": [
      "The r-value is: 0.17763178044452152\n"
     ]
    },
    {
     "data": {
      "image/png": "[encoded data removed]",
      "text/plain": [
       "<Figure size 432x288 with 1 Axes>"
      ]
     },
     "metadata": {
      "needs_background": "light"
     },
     "output_type": "display_data"
    }
   ],
   "source": [
    "x_values = southern_hemi[\"Latitude\"]\n",
    "y_values = southern_hemi[\"Cloudiness\"]\n",
    "\n",
    "(slope, intercept, rvalue, pvalue, stderr) = linregress(x_values, y_values)\n",
    "regress_values = x_values * slope + intercept\n",
    "line_eq = \"y = \" + str(round(slope,2)) + \"x + \" + str(round(intercept,2))\n",
    "plt.scatter(x_values, y_values)\n",
    "plt.plot(x_values,regress_values,\"r-\")\n",
    "plt.annotate(line_eq,(-50,10),fontsize=15,color=\"red\")\n",
    "plt.ylabel(\"Cloudiness (%)\")\n",
    "plt.xlabel(\"Latitude\")\n",
    "print(f\"The r-value is: {rvalue}\")\n",
    "plt.show();"
   ]
  },
  {
   "cell_type": "markdown",
   "metadata": {},
   "source": [
    "Both plots are plotting the relationship between a cities' Latitude and Cloudiness. In neither linear regression is there indication of a relationship between Latitude and Cloudiness."
   ]
  },
  {
   "cell_type": "markdown",
   "metadata": {},
   "source": [
    "### Wind Speed (m/s) vs. Latitude Linear Regression"
   ]
  },
  {
   "cell_type": "markdown",
   "metadata": {},
   "source": [
    "####  Northern Hemisphere - Wind Speed (mph) vs. Latitude Linear Regression"
   ]
  },
  {
   "cell_type": "code",
   "execution_count": 38,
   "metadata": {},
   "outputs": [
    {
     "name": "stdout",
     "output_type": "stream",
     "text": [
      "The r-value is: 0.09728933823835104\n"
     ]
    },
    {
     "data": {
      "image/png": "[encoded data removed]",
      "text/plain": [
       "<Figure size 432x288 with 1 Axes>"
      ]
     },
     "metadata": {
      "needs_background": "light"
     },
     "output_type": "display_data"
    }
   ],
   "source": [
    "x_values = northern_hemi[\"Latitude\"]\n",
    "y_values = northern_hemi[\"Wind Speed\"]\n",
    "\n",
    "(slope, intercept, rvalue, pvalue, stderr) = linregress(x_values, y_values)\n",
    "regress_values = x_values * slope + intercept\n",
    "line_eq = \"y = \" + str(round(slope,2)) + \"x + \" + str(round(intercept,2))\n",
    "plt.scatter(x_values, y_values)\n",
    "plt.plot(x_values,regress_values,\"r-\")\n",
    "plt.annotate(line_eq,(5.8,0.8),fontsize=15,color=\"red\")\n",
    "plt.ylabel(\"Wind Speed (m/s)\")\n",
    "plt.xlabel(\"Latitude\")\n",
    "print(f\"The r-value is: {rvalue}\")\n",
    "plt.show();"
   ]
  },
  {
   "cell_type": "markdown",
   "metadata": {},
   "source": [
    "####  Southern Hemisphere - Wind Speed (mph) vs. Latitude Linear Regression"
   ]
  },
  {
   "cell_type": "code",
   "execution_count": 39,
   "metadata": {},
   "outputs": [
    {
     "name": "stdout",
     "output_type": "stream",
     "text": [
      "The r-value is: -0.0623109224401069\n"
     ]
    },
    {
     "data": {
      "image/png": "[encoded data removed]",
      "text/plain": [
       "<Figure size 432x288 with 1 Axes>"
      ]
     },
     "metadata": {
      "needs_background": "light"
     },
     "output_type": "display_data"
    }
   ],
   "source": [
    "x_values = southern_hemi[\"Latitude\"]\n",
    "y_values = southern_hemi[\"Wind Speed\"]\n",
    "\n",
    "(slope, intercept, rvalue, pvalue, stderr) = linregress(x_values, y_values)\n",
    "regress_values = x_values * slope + intercept\n",
    "line_eq = \"y = \" + str(round(slope,2)) + \"x + \" + str(round(intercept,2))\n",
    "plt.scatter(x_values, y_values)\n",
    "plt.plot(x_values,regress_values,\"r-\")\n",
    "plt.annotate(line_eq,(-50,12),fontsize=15,color=\"red\")\n",
    "plt.ylabel(\"Wind Speed (m/s)\")\n",
    "plt.xlabel(\"Latitude\")\n",
    "print(f\"The r-value is: {rvalue}\")\n",
    "plt.show();"
   ]
  }
 ],
 "metadata": {
  "anaconda-cloud": {},
  "kernel_info": {
   "name": "python3"
  },
  "kernelspec": {
   "display_name": "Python 3.10.7 64-bit (microsoft store)",
   "language": "python",
   "name": "python3"
  },
  "language_info": {
   "codemirror_mode": {
    "name": "ipython",
    "version": 3
   },
   "file_extension": ".py",
   "mimetype": "text/x-python",
   "name": "python",
   "nbconvert_exporter": "python",
   "pygments_lexer": "ipython3",
   "version": "3.10.7"
  },
  "latex_envs": {
   "LaTeX_envs_menu_present": true,
   "autoclose": false,
   "autocomplete": true,
   "bibliofile": "biblio.bib",
   "cite_by": "apalike",
   "current_citInitial": 1,
   "eqLabelWithNumbers": true,
   "eqNumInitial": 1,
   "hotkeys": {
    "equation": "Ctrl-E",
    "itemize": "Ctrl-I"
   },
   "labels_anchors": false,
   "latex_user_defs": false,
   "report_style_numbering": false,
   "user_envs_cfg": false
  },
  "nteract": {
   "version": "0.12.3"
  },
  "vscode": {
   "interpreter": {
    "hash": "ae75985cef28d11bc6a5f2fb0836f641963034e7349aa0edb716cc75fdc9e250"
   }
  }
 },
 "nbformat": 4,
 "nbformat_minor": 2
}
